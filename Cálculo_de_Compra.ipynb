{
  "nbformat": 4,
  "nbformat_minor": 0,
  "metadata": {
    "colab": {
      "name": "Cálculo de Compra.ipynb",
      "provenance": [],
      "collapsed_sections": [],
      "authorship_tag": "ABX9TyOoLCEZYz4T9oDwBXEzgMx/",
      "include_colab_link": true
    },
    "kernelspec": {
      "name": "python3",
      "display_name": "Python 3"
    },
    "language_info": {
      "name": "python"
    }
  },
  "cells": [
    {
      "cell_type": "markdown",
      "metadata": {
        "id": "view-in-github",
        "colab_type": "text"
      },
      "source": [
        "<a href=\"https://colab.research.google.com/github/andreiasaling/Testes-Python/blob/main/C%C3%A1lculo_de_Compra.ipynb\" target=\"_parent\"><img src=\"https://colab.research.google.com/assets/colab-badge.svg\" alt=\"Open In Colab\"/></a>"
      ]
    },
    {
      "cell_type": "code",
      "execution_count": 8,
      "metadata": {
        "colab": {
          "base_uri": "https://localhost:8080/"
        },
        "id": "4Ub371OUdr-f",
        "outputId": "feff4ff7-3e20-47aa-b935-ac57a438fb2d"
      },
      "outputs": [
        {
          "output_type": "stream",
          "name": "stdout",
          "text": [
            "Informe o valor do produto: 100\n",
            "Quantidade: 2\n",
            "Informe a moeda (real, dolar ou euro): real\n",
            "Informe o valor do desconto em % (Caso não haja, digite 0 (zero)): 10\n",
            "Informe o valor de acréscimo em % (Caso não haja, digite 0 (zero)): 0\n",
            "\n",
            " \n",
            "----- Valor final a ser pago ----- \n",
            "\n"
          ]
        },
        {
          "output_type": "execute_result",
          "data": {
            "text/plain": [
              "180.0"
            ]
          },
          "metadata": {},
          "execution_count": 8
        }
      ],
      "source": [
        "def calcular_valor (valor_produto,qtde,moeda='real',desconto=None,acrescimo=None):\n",
        "  valor_bruto=valor_produto*qtde\n",
        "\n",
        "  #desconto e acréscimo:\n",
        "  if desconto:\n",
        "    valor_liquido=valor_bruto-(valor_bruto*(desconto/100))\n",
        "  elif acrescimo:\n",
        "    valor_liquido=valor_bruto+(valor_bruto*(acrescimo/100))\n",
        "  else:\n",
        "    valor_liquido=valor_bruto\n",
        "\n",
        "  #conversão de moeda (Dólar R$ 5,00 e Euro R$ 5,70):\n",
        "  if moeda=='real':\n",
        "    return valor_liquido\n",
        "  elif moeda=='dolar':\n",
        "    return valor_liquido*5\n",
        "  elif moeda=='euro':\n",
        "    return valor_liquido*5.7\n",
        "  else:\n",
        "    print('Moeda não cadastrada')\n",
        "    return 0\n",
        "  \n",
        "valorproduto=float(input(\"Informe o valor do produto: \"))\n",
        "quantidade=float(input(\"Quantidade: \"))\n",
        "moeda=input(\"Informe a moeda (real, dolar ou euro): \")\n",
        "desconto=float(input(\"Informe o valor do desconto em % (Caso não haja, digite 0 (zero)): \"))\n",
        "if desconto==0:\n",
        "  desconto=None\n",
        "acrescimo=float(input(\"Informe o valor de acréscimo em % (Caso não haja, digite 0 (zero)): \"))\n",
        "if acrescimo==0:\n",
        "  acrescimo=None\n",
        "\n",
        "print(\"\\n \\n----- Valor final a ser pago ----- \\n\")\n",
        "calcular_valor(valorproduto,quantidade,moeda,desconto,acrescimo)\n"
      ]
    }
  ]
}