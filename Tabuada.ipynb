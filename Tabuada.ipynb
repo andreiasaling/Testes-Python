{
  "nbformat": 4,
  "nbformat_minor": 0,
  "metadata": {
    "colab": {
      "name": "Tabuada.ipynb",
      "provenance": [],
      "collapsed_sections": [],
      "authorship_tag": "ABX9TyPcJXnn7YFoT55Du//MXSMA",
      "include_colab_link": true
    },
    "kernelspec": {
      "name": "python3",
      "display_name": "Python 3"
    },
    "language_info": {
      "name": "python"
    }
  },
  "cells": [
    {
      "cell_type": "markdown",
      "metadata": {
        "id": "view-in-github",
        "colab_type": "text"
      },
      "source": [
        "<a href=\"https://colab.research.google.com/github/andreiasaling/Testes-Python/blob/main/Tabuada.ipynb\" target=\"_parent\"><img src=\"https://colab.research.google.com/assets/colab-badge.svg\" alt=\"Open In Colab\"/></a>"
      ]
    },
    {
      "cell_type": "code",
      "source": [
        "num=int(input(\"Digite um número para tabuada: \"))\n",
        "\n",
        "for i in range(1,11):\n",
        "  resultado=num*i\n",
        "  print(f\"{num} x {i} = {resultado}\")"
      ],
      "metadata": {
        "id": "YVQcCGktqG_G"
      },
      "execution_count": null,
      "outputs": []
    }
  ]
}