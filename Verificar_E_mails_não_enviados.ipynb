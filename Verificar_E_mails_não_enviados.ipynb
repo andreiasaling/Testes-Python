{
  "nbformat": 4,
  "nbformat_minor": 0,
  "metadata": {
    "colab": {
      "name": "Verificar E-mails não enviados.ipynb",
      "provenance": [],
      "collapsed_sections": [],
      "authorship_tag": "ABX9TyPZWK/DUV9r/kvQttQ8+skr",
      "include_colab_link": true
    },
    "kernelspec": {
      "name": "python3",
      "display_name": "Python 3"
    },
    "language_info": {
      "name": "python"
    }
  },
  "cells": [
    {
      "cell_type": "markdown",
      "metadata": {
        "id": "view-in-github",
        "colab_type": "text"
      },
      "source": [
        "<a href=\"https://colab.research.google.com/github/andreiasaling/Testes-Python/blob/main/Verificar_E_mails_n%C3%A3o_enviados.ipynb\" target=\"_parent\"><img src=\"https://colab.research.google.com/assets/colab-badge.svg\" alt=\"Open In Colab\"/></a>"
      ]
    },
    {
      "cell_type": "code",
      "execution_count": null,
      "metadata": {
        "id": "04Kwtcsur71o"
      },
      "outputs": [],
      "source": [
        "#Considerando que você receberá duas estruturas, conforme foi mencionado,\n",
        "#crie uma função que trate os dados e retorne uma lista com os e-mails\n",
        "#que ainda não foram enviados\n",
        "\n",
        "\n",
        "def extrair_email(dict_1,dict_2):\n",
        "  lista_1=list(zip(dict_1['nome'],dict_1['email'],dict_1['enviado'])) \n",
        "  lista_2=list(zip(dict_2['nome'],dict_2['email'],dict_2['enviado']))\n",
        "\n",
        "  dados=lista_1+lista_2\n",
        "\n",
        "  emails=[item[1] for item in dados if not item[2]]\n",
        "\n",
        "  return emails\n",
        "\n",
        "\n",
        "#Dados recebidos\n",
        "dados_1 = {\n",
        "  'nome': ['Sonia Weber', 'Daryl Lowe', 'Vernon Carroll', 'Basil Gilliam', 'Mechelle Cobb', 'Edan Booker', 'Igor Wyatt', 'Ethan Franklin', 'Reed Williamson', 'Price Singleton'],\n",
        "  'email': ['Lorem.ipsum@cursusvestibulumMauris.com', 'auctor@magnis.org', 'at@magnaUttincidunt.org', 'mauris.sagittis@sem.com', 'nec.euismod.in@mattis.co.uk', 'egestas@massaMaurisvestibulum.edu', 'semper.auctor.Mauris@Crasdolordolor.edu', 'risus.Quisque@condimentum.com', 'Donec@nislMaecenasmalesuada.net', 'Aenean.gravida@atrisus.edu'],\n",
        "  'enviado': [False, False, False, False, False, False, False, True, False, False]\n",
        "}\n",
        "dados_2 = {\n",
        "  'nome': ['Travis Shepherd', 'Hoyt Glass', 'Jennifer Aguirre', 'Cassady Ayers', 'Colin Myers', 'Herrod Curtis', 'Cecilia Park', 'Hop Byrd', 'Beatrice Silva', 'Alden Morales'],\n",
        "  'email': ['at@sed.org', 'ac.arcu.Nunc@auctor.edu', 'nunc.Quisque.ornare@nibhAliquam.co.uk', 'non.arcu@mauriseu.com', 'fringilla.cursus.purus@erategetipsum.ca', 'Fusce.fermentum@tellus.co.uk', 'dolor.tempus.non@ipsum.net', 'blandit.congue.In@libero.com', 'nec.tempus.mauris@Suspendisse.com', 'felis@urnaconvalliserat.org'],\n",
        "  'enviado': [False, False, False, True, True, True, False, True, True, False]\n",
        "}\n",
        "\n",
        "#Invocando a função\n",
        "extrair_email(dict_1=dados_1,dict_2=dados_2)\n"
      ]
    }
  ]
}