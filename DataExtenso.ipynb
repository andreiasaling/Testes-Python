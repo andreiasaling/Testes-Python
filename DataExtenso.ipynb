{
  "nbformat": 4,
  "nbformat_minor": 0,
  "metadata": {
    "colab": {
      "name": "DataExtenso.ipynb",
      "provenance": [],
      "authorship_tag": "ABX9TyMhrfSoR+F6RPqEqMSYx7M+",
      "include_colab_link": true
    },
    "kernelspec": {
      "name": "python3",
      "display_name": "Python 3"
    },
    "language_info": {
      "name": "python"
    }
  },
  "cells": [
    {
      "cell_type": "markdown",
      "metadata": {
        "id": "view-in-github",
        "colab_type": "text"
      },
      "source": [
        "<a href=\"https://colab.research.google.com/github/andreiasaling/Testes-Python/blob/main/DataExtenso.ipynb\" target=\"_parent\"><img src=\"https://colab.research.google.com/assets/colab-badge.svg\" alt=\"Open In Colab\"/></a>"
      ]
    },
    {
      "cell_type": "code",
      "execution_count": 1,
      "metadata": {
        "colab": {
          "base_uri": "https://localhost:8080/",
          "height": 53
        },
        "id": "NdD34IYNwwxa",
        "outputId": "be5700e8-c55b-4826-9372-afdcdfc9e04b"
      },
      "outputs": [
        {
          "name": "stdout",
          "output_type": "stream",
          "text": [
            "Digite uma data no formato dd/mm/aaaa: 04/08/1992\n"
          ]
        },
        {
          "output_type": "execute_result",
          "data": {
            "application/vnd.google.colaboratory.intrinsic+json": {
              "type": "string"
            },
            "text/plain": [
              "'Quatro de agosto de 1992'"
            ]
          },
          "metadata": {},
          "execution_count": 1
        }
      ],
      "source": [
        "def converter_mes_para_extenso(data):\n",
        "    mes = ['janeiro','fevereiro','março','abril','maio','junho','julho','agosto','setembro','outubro','novembro','dezembro']\n",
        "    dia='''Um Dois Três Quatro Cinco\n",
        "      Seis Sete Oito Nove Dez Onze Doze\n",
        "      Treze Quatorze Quinte Dezesseis\n",
        "     Dezessete Dezoito Dezenove Vinte\n",
        "      VinteUm  VinteDois VinteTrês VinteQuatro\n",
        "      VinteCinco VinteSeis VinteSete VinteOito\n",
        "      VinteNove Trinta TrintaUm'''.split()\n",
        "    d, m, a = data.split('/')\n",
        "\n",
        "    dia_extenso=dia[int(d)-1]\n",
        "    mes_extenso = mes[int(m) - 1] # O mês 1, estará na posição 0!\n",
        "\n",
        "\n",
        "    return f'{dia_extenso} de {mes_extenso} de {a}'\n",
        "\n",
        " \n",
        "data=input(\"Digite uma data no formato dd/mm/aaaa: \")\n",
        "converter_mes_para_extenso(data)"
      ]
    }
  ]
}