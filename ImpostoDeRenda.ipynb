{
  "nbformat": 4,
  "nbformat_minor": 0,
  "metadata": {
    "colab": {
      "name": "ImpostoDeRenda.ipynb",
      "provenance": [],
      "collapsed_sections": [],
      "authorship_tag": "ABX9TyOPQP/gq8AHQXvd5b3RYQZZ",
      "include_colab_link": true
    },
    "kernelspec": {
      "name": "python3",
      "display_name": "Python 3"
    },
    "language_info": {
      "name": "python"
    }
  },
  "cells": [
    {
      "cell_type": "markdown",
      "metadata": {
        "id": "view-in-github",
        "colab_type": "text"
      },
      "source": [
        "<a href=\"https://colab.research.google.com/github/andreiasaling/Testes-Python/blob/main/ImpostoDeRenda.ipynb\" target=\"_parent\"><img src=\"https://colab.research.google.com/assets/colab-badge.svg\" alt=\"Open In Colab\"/></a>"
      ]
    },
    {
      "cell_type": "code",
      "execution_count": null,
      "metadata": {
        "id": "oWeGsXG_zfCJ"
      },
      "outputs": [],
      "source": [
        ""
      ]
    },
    {
      "cell_type": "code",
      "source": [
        "sal=float(input('Digite o salário do funcionário: '))\n",
        "\n",
        "if sal<=1903.98:\n",
        "  print(\"--- Isento de imposto ---\")\n",
        "elif sal<=2628.65:\n",
        "  print(\"--- Imposto: R$ 142,80 ---\")\n",
        "  print(f\"Salário a receber: R$ {sal-142.8}\")\n",
        "elif sal<=3751.05:\n",
        "  print(\" --- Imposto: R$ 354,80 ---\")\n",
        "  print(f\"Salário a receber: R$ {sal-354.8}\")\n",
        "elif sal<=4664.48:\n",
        "  print(\" --- Imposto: R$ 636,13 ---\")\n",
        "  print(f\"Salário a receber: R$ {sal-636.13}\")\n",
        "else:\n",
        "  print(\"--- Imposto: R$ 869,36 ---\")\n",
        "  print(f\"Salário a receber: R$ {sal-868.36}\")"
      ],
      "metadata": {
        "id": "ea26ghR2toqX"
      },
      "execution_count": null,
      "outputs": []
    }
  ]
}