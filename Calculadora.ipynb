{
  "nbformat": 4,
  "nbformat_minor": 0,
  "metadata": {
    "colab": {
      "name": "Calculadora.ipynb",
      "provenance": [],
      "collapsed_sections": [],
      "authorship_tag": "ABX9TyMuHbuZdTRkz1zG5hpimG5p",
      "include_colab_link": true
    },
    "kernelspec": {
      "name": "python3",
      "display_name": "Python 3"
    },
    "language_info": {
      "name": "python"
    }
  },
  "cells": [
    {
      "cell_type": "markdown",
      "metadata": {
        "id": "view-in-github",
        "colab_type": "text"
      },
      "source": [
        "<a href=\"https://colab.research.google.com/github/andreiasaling/Testes-Python/blob/main/Calculadora.ipynb\" target=\"_parent\"><img src=\"https://colab.research.google.com/assets/colab-badge.svg\" alt=\"Open In Colab\"/></a>"
      ]
    },
    {
      "cell_type": "code",
      "execution_count": null,
      "metadata": {
        "id": "WOurMPbH6ZNT"
      },
      "outputs": [],
      "source": [
        "#Criação da função\n",
        "def calculadora(num1,num2,operador):\n",
        "  if operador==\"+\" or operador==\"adição\":\n",
        "    return num1+num2    \n",
        "  elif operador==\"-\" or operador==\"subtração\":\n",
        "    return num1-num2\n",
        "  elif operador==\"*\" or operador==\"multiplicação\":\n",
        "    return num1*num2\n",
        "  elif operador==\"/\" or operador==\"divisão\":\n",
        "    return num1/num2\n",
        "  else:\n",
        "    return \"Operador inválido!\"\n",
        "\n",
        "#principal\n",
        "num1=float(input(\"Digite o primeiro número: \"))\n",
        "num2=float(input(\"Digite o segundo número: \"))\n",
        "operador=input('''Digite a operação desejada:\n",
        "              Adição (+)\n",
        "              Subtração(-)\n",
        "              Multiplicação(*)\n",
        "              Divisão(/) \\n''')\n",
        "\n",
        "print(\"\\n >>> RESULTADO <<< \\n\")\n",
        "calculadora(num1,num2,operador)"
      ]
    }
  ]
}